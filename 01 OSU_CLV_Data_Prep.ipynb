{
 "cells": [
  {
   "cell_type": "markdown",
   "metadata": {},
   "source": [
    "# Hands-on Lab --- Data Prep"
   ]
  },
  {
   "cell_type": "markdown",
   "metadata": {},
   "source": [
    "## Importing packages:"
   ]
  },
  {
   "cell_type": "code",
   "execution_count": 22,
   "metadata": {},
   "outputs": [],
   "source": [
    "import numpy as np\n",
    "import pandas as pd\n",
    "import sklearn as sk\n",
    "import matplotlib.pyplot as plt\n",
    "\n",
    "\n",
    "pd.set_option('display.max_rows', 500)\n",
    "pd.set_option('display.max_columns', 50)\n",
    "pd.set_option('display.width', 1000)\n",
    "pd.set_option('display.precision', 2)"
   ]
  },
  {
   "cell_type": "markdown",
   "metadata": {},
   "source": [
    "## Reading comma separated files into dataframes.\n",
    "## Change the path below to point to churn and margin data:"
   ]
  },
  {
   "cell_type": "code",
   "execution_count": 23,
   "metadata": {},
   "outputs": [],
   "source": [
    "demog_df = pd.read_csv(r'C:\\Users\\Ashish\\OneDrive - Oklahoma A and M System\\CLV\\TP_demog_new.csv')\n",
    "churn_df = pd.read_csv(r'C:\\Users\\Ashish\\OneDrive - Oklahoma A and M System\\CLV\\TP_churn_data.csv')\n",
    "margin_df = pd.read_csv(r'C:\\Users\\Ashish\\OneDrive - Oklahoma A and M System\\CLV\\TP_margin_data.csv')"
   ]
  },
  {
   "cell_type": "markdown",
   "metadata": {},
   "source": [
    "## Use the head method to view churn dataframe:"
   ]
  },
  {
   "cell_type": "code",
   "execution_count": 25,
   "metadata": {},
   "outputs": [
    {
     "data": {
      "text/plain": [
       "(240368, 31)"
      ]
     },
     "execution_count": 25,
     "metadata": {},
     "output_type": "execute_result"
    }
   ],
   "source": [
    "churn_df.shape"
   ]
  },
  {
   "cell_type": "markdown",
   "metadata": {},
   "source": [
    "## Use pandas describe method to see variable stats,\n",
    "##    and transpose to show variables as a list:"
   ]
  },
  {
   "cell_type": "code",
   "execution_count": 26,
   "metadata": {},
   "outputs": [
    {
     "name": "stdout",
     "output_type": "stream",
     "text": [
      " summary stats on churn data \n",
      "                            count  unique         top    freq     mean      std  min      25%      50%      75%      max\n",
      "ST                         240368      61          TX   21633      NaN      NaN  NaN      NaN      NaN      NaN      NaN\n",
      "Zip                        240368   26124     missing     894      NaN      NaN  NaN      NaN      NaN      NaN      NaN\n",
      "DMA                        240368     216         803    9721      NaN      NaN  NaN      NaN      NaN      NaN      NaN\n",
      "Area_Cd                    240368     384     missing   13090      NaN      NaN  NaN      NaN      NaN      NaN      NaN\n",
      "emailable                 2.4e+05     NaN         NaN     NaN     0.51      0.5    0        0        1        1        1\n",
      "solicit_ph_ind            2.4e+05     NaN         NaN     NaN     0.89     0.31    0        1        1        1        1\n",
      "solicit_email_ind         2.4e+05     NaN         NaN     NaN     0.96     0.19    0        1        1        1        1\n",
      "fixd_incm_flg             2.4e+05     NaN         NaN     NaN    0.092     0.29    0        0        0        0        1\n",
      "scheduled_purchase_flg    2.4e+05     NaN         NaN     NaN     0.26     0.44    0        0        0        1        1\n",
      "months_since_last_trans   2.4e+05     NaN         NaN     NaN      2.9      3.1    1        1        1        4       12\n",
      "months_since_first_trans  2.4e+05     NaN         NaN     NaN       65       58    1       14       46  1.1e+02  2.9e+02\n",
      "purch_cnt_life            2.4e+05     NaN         NaN     NaN       56       76    1        8       26       73  2.6e+03\n",
      "purch_amt_life            2.4e+05     NaN         NaN     NaN  3.3e+03  2.2e+04    0  2.2e+02    8e+02  2.7e+03  5.5e+06\n",
      "purch_cnt_cc_36mo         2.4e+05     NaN         NaN     NaN      4.7      9.3    0        0        0        4  1.9e+02\n",
      "purch_cnt_et_36mo         2.4e+05     NaN         NaN     NaN        4       11    0        0        0        0  1.6e+02\n",
      "purch_cnt_ck_36mo         2.4e+05     NaN         NaN     NaN       11       14    0        0        3       18  4.8e+02\n",
      "purch_cnt_tt_36mo         2.4e+05     NaN         NaN     NaN       19       15    0        6       16       33  4.8e+02\n",
      "purch_amt_36mo            2.4e+05     NaN         NaN     NaN  1.1e+03  5.4e+03    0  1.6e+02  5.1e+02  1.1e+03  1.2e+06\n",
      "purch_avg_36mo            2.4e+05     NaN         NaN     NaN       67  9.5e+02   -1       20       25       47  3.0e+05\n",
      "purch_avg_interval        2.4e+05     NaN         NaN     NaN      2.1      4.9   -1     0.99      1.1      1.9  1.7e+02\n",
      "mail_cnt_36mo             2.4e+05     NaN         NaN     NaN       19       15    0        6       16       33  4.2e+02\n",
      "resp_cnt_36mo             2.4e+05     NaN         NaN     NaN      3.2        7    0        0        0        3    4e+02\n",
      "call_in_mo_36mo           2.4e+05     NaN         NaN     NaN      7.8       47    0        0        0        3  2.7e+03\n",
      "call_out_mo_36mo          2.4e+05     NaN         NaN     NaN      2.3      2.4    0        1        2        3       38\n",
      "order_cnt_36mo            2.4e+05     NaN         NaN     NaN      6.3      9.8    0        3        4        7    6e+02\n",
      "tier                       240368       5    1-Bronze  154543      NaN      NaN  NaN      NaN      NaN      NaN      NaN\n",
      "tier_prev                  240368       6         xxx  162512      NaN      NaN  NaN      NaN      NaN      NaN      NaN\n",
      "acct_ID                    240368  239356  I152106951       3      NaN      NaN  NaN      NaN      NaN      NaN      NaN\n",
      "activation_date            240368     208     06JUL00   17375      NaN      NaN  NaN      NaN      NaN      NaN      NaN\n",
      "event_date                  63428      12     31JUL15    6908      NaN      NaN  NaN      NaN      NaN      NaN      NaN\n",
      "churn_year_plus1_ind      2.4e+05     NaN         NaN     NaN     0.26     0.44    0        0        0        1        1\n"
     ]
    }
   ],
   "source": [
    "print(\" summary stats on churn data \") \n",
    "print(churn_df.describe(include='all').transpose())"
   ]
  },
  {
   "cell_type": "markdown",
   "metadata": {},
   "source": [
    "## Use head method to view margin dataframe:"
   ]
  },
  {
   "cell_type": "code",
   "execution_count": 27,
   "metadata": {},
   "outputs": [
    {
     "data": {
      "text/plain": [
       "(240368, 97)"
      ]
     },
     "execution_count": 27,
     "metadata": {},
     "output_type": "execute_result"
    }
   ],
   "source": [
    "margin_df.shape"
   ]
  },
  {
   "cell_type": "markdown",
   "metadata": {},
   "source": [
    "## Modify margin data to only have ANNUAL margin numbers,\n",
    "##    and print stats on the new margin dataframe:"
   ]
  },
  {
   "cell_type": "code",
   "execution_count": 28,
   "metadata": {},
   "outputs": [
    {
     "name": "stdout",
     "output_type": "stream",
     "text": [
      " summary stats on margin data \n",
      "                  count  unique         top freq     mean      std      min  25%      50%      75%      max\n",
      "acct_ID          240368  239356  I152106951    3      NaN      NaN      NaN  NaN      NaN      NaN      NaN\n",
      "margin_Y_neg_1  2.4e+05     NaN         NaN  NaN  2.2e+02  1.5e+03 -1.5e+04   42  1.8e+02  3.4e+02  2.8e+05\n",
      "margin_Y_neg_2  2.4e+05     NaN         NaN  NaN  1.9e+02  1.9e+03 -2.1e+04    0  1.3e+02  2.9e+02  4.7e+05\n",
      "margin_Y_neg_3  2.4e+05     NaN         NaN  NaN  1.7e+02  2.1e+03 -7.5e+03    0       28  2.5e+02  4.9e+05\n",
      "margin_Y_pos_1  2.4e+05     NaN         NaN  NaN  3.5e+02  2.1e+03 -3.5e+03 -2.2  1.6e+02  3.3e+02    4e+05\n"
     ]
    }
   ],
   "source": [
    "margin_df['rev_Y_neg_1']=margin_df['trans_amt_t_minus_00']+margin_df['trans_amt_t_minus_01']+margin_df['trans_amt_t_minus_02']+margin_df['trans_amt_t_minus_03']+margin_df['trans_amt_t_minus_04']+margin_df['trans_amt_t_minus_05']+margin_df['trans_amt_t_minus_06']+margin_df['trans_amt_t_minus_07']+margin_df['trans_amt_t_minus_08']+margin_df['trans_amt_t_minus_09']+margin_df['trans_amt_t_minus_10']+margin_df['trans_amt_t_minus_11']\n",
    "margin_df['cost_Y_neg_1']=margin_df['cost_amt_t_minus_00']+margin_df['cost_amt_t_minus_01']+margin_df['cost_amt_t_minus_02']+margin_df['cost_amt_t_minus_03']+margin_df['cost_amt_t_minus_04']+margin_df['cost_amt_t_minus_05']+margin_df['cost_amt_t_minus_06']+margin_df['cost_amt_t_minus_07']+margin_df['cost_amt_t_minus_08']+margin_df['cost_amt_t_minus_09']+margin_df['cost_amt_t_minus_10']+margin_df['cost_amt_t_minus_11']\n",
    "margin_df['margin_Y_neg_1']=margin_df['rev_Y_neg_1']-margin_df['cost_Y_neg_1']\n",
    "\n",
    "margin_df['rev_Y_neg_2']=margin_df['trans_amt_t_minus_12']+margin_df['trans_amt_t_minus_13']+margin_df['trans_amt_t_minus_14']+margin_df['trans_amt_t_minus_15']+margin_df['trans_amt_t_minus_16']+margin_df['trans_amt_t_minus_17']+margin_df['trans_amt_t_minus_18']+margin_df['trans_amt_t_minus_19']+margin_df['trans_amt_t_minus_20']+margin_df['trans_amt_t_minus_21']+margin_df['trans_amt_t_minus_22']+margin_df['trans_amt_t_minus_23']\n",
    "margin_df['cost_Y_neg_2']=margin_df['cost_amt_t_minus_12']+margin_df['cost_amt_t_minus_13']+margin_df['cost_amt_t_minus_14']+margin_df['cost_amt_t_minus_15']+margin_df['cost_amt_t_minus_16']+margin_df['cost_amt_t_minus_17']+margin_df['cost_amt_t_minus_18']+margin_df['cost_amt_t_minus_19']+margin_df['cost_amt_t_minus_20']+margin_df['cost_amt_t_minus_21']+margin_df['cost_amt_t_minus_22']+margin_df['cost_amt_t_minus_23']\n",
    "margin_df['margin_Y_neg_2']=margin_df['rev_Y_neg_2']-margin_df['cost_Y_neg_2']\n",
    "\n",
    "margin_df['rev_Y_neg_3']=margin_df['trans_amt_t_minus_24']+margin_df['trans_amt_t_minus_25']+margin_df['trans_amt_t_minus_26']+margin_df['trans_amt_t_minus_27']+margin_df['trans_amt_t_minus_28']+margin_df['trans_amt_t_minus_29']+margin_df['trans_amt_t_minus_30']+margin_df['trans_amt_t_minus_31']+margin_df['trans_amt_t_minus_32']+margin_df['trans_amt_t_minus_33']+margin_df['trans_amt_t_minus_34']+margin_df['trans_amt_t_minus_35']\n",
    "margin_df['cost_Y_neg_3']=margin_df['cost_amt_t_minus_24']+margin_df['cost_amt_t_minus_25']+margin_df['cost_amt_t_minus_26']+margin_df['cost_amt_t_minus_27']+margin_df['cost_amt_t_minus_28']+margin_df['cost_amt_t_minus_29']+margin_df['cost_amt_t_minus_30']+margin_df['cost_amt_t_minus_31']+margin_df['cost_amt_t_minus_32']+margin_df['cost_amt_t_minus_33']+margin_df['cost_amt_t_minus_34']+margin_df['cost_amt_t_minus_35']\n",
    "margin_df['margin_Y_neg_3']=margin_df['rev_Y_neg_3']-margin_df['cost_Y_neg_3']\n",
    "\n",
    "margin_df['rev_Y_pos_1']=margin_df['trans_amt_t_plus_01']+margin_df['trans_amt_t_plus_02']+margin_df['trans_amt_t_plus_03']+margin_df['trans_amt_t_plus_04']+margin_df['trans_amt_t_plus_05']+margin_df['trans_amt_t_plus_06']+margin_df['trans_amt_t_plus_07']+margin_df['trans_amt_t_plus_08']+margin_df['trans_amt_t_plus_09']+margin_df['trans_amt_t_plus_10']+margin_df['trans_amt_t_plus_11']+margin_df['trans_amt_t_plus_12']\n",
    "margin_df['cost_Y_pos_1']=margin_df['cost_amt_t_plus_01']+margin_df['cost_amt_t_plus_02']+margin_df['cost_amt_t_plus_03']+margin_df['cost_amt_t_plus_04']+margin_df['cost_amt_t_plus_05']+margin_df['cost_amt_t_plus_06']+margin_df['cost_amt_t_plus_07']+margin_df['cost_amt_t_plus_08']+margin_df['cost_amt_t_plus_09']+margin_df['cost_amt_t_plus_10']+margin_df['cost_amt_t_plus_11']+margin_df['cost_amt_t_plus_12']\n",
    "margin_df['margin_Y_pos_1']=margin_df['rev_Y_pos_1']-margin_df['cost_Y_pos_1']\n",
    "\n",
    "margin_df = margin_df[['acct_ID','margin_Y_neg_1','margin_Y_neg_2','margin_Y_neg_3','margin_Y_pos_1']]\n",
    "\n",
    "print(\" summary stats on margin data \") \n",
    "print(margin_df.describe(include='all').transpose())"
   ]
  },
  {
   "cell_type": "markdown",
   "metadata": {},
   "source": [
    "## Create bar chart to explore churn rates by tiers:"
   ]
  },
  {
   "cell_type": "code",
   "execution_count": 29,
   "metadata": {},
   "outputs": [
    {
     "data": {
      "text/plain": [
       "<matplotlib.axes._subplots.AxesSubplot at 0x202ca3f07f0>"
      ]
     },
     "execution_count": 29,
     "metadata": {},
     "output_type": "execute_result"
    },
    {
     "data": {
      "image/png": "[encoded data removed]",
      "text/plain": [
       "<Figure size 432x288 with 1 Axes>"
      ]
     },
     "metadata": {
      "needs_background": "light"
     },
     "output_type": "display_data"
    }
   ],
   "source": [
    "temp_df = churn_df.groupby(['tier'])['churn_year_plus1_ind'].mean()\n",
    "temp_df.plot.bar(title=\"Churn Rate by Tiers\")"
   ]
  },
  {
   "cell_type": "markdown",
   "metadata": {},
   "source": [
    "## Create histogram to explore distribution of variables in churn data:"
   ]
  },
  {
   "cell_type": "code",
   "execution_count": 30,
   "metadata": {},
   "outputs": [
    {
     "data": {
      "text/plain": [
       "<matplotlib.axes._subplots.AxesSubplot at 0x202ca53f6a0>"
      ]
     },
     "execution_count": 30,
     "metadata": {},
     "output_type": "execute_result"
    },
    {
     "data": {
      "image/png": "[encoded data removed]",
      "text/plain": [
       "<Figure size 432x288 with 1 Axes>"
      ]
     },
     "metadata": {
      "needs_background": "light"
     },
     "output_type": "display_data"
    }
   ],
   "source": [
    "churn_df['purch_amt_life'].plot.hist(title=\"Distribution of Purchase Amount\",bins=10)"
   ]
  },
  {
   "cell_type": "markdown",
   "metadata": {},
   "source": [
    "## Create histogram to explore distribution of variables in margin data:"
   ]
  },
  {
   "cell_type": "code",
   "execution_count": 31,
   "metadata": {},
   "outputs": [
    {
     "data": {
      "text/plain": [
       "<matplotlib.axes._subplots.AxesSubplot at 0x202ca4d7c50>"
      ]
     },
     "execution_count": 31,
     "metadata": {},
     "output_type": "execute_result"
    },
    {
     "data": {
      "image/png": "[encoded data removed]",
      "text/plain": [
       "<Figure size 432x288 with 1 Axes>"
      ]
     },
     "metadata": {
      "needs_background": "light"
     },
     "output_type": "display_data"
    }
   ],
   "source": [
    "temp_df = margin_df.query('-1000<margin_Y_neg_1<3000')\n",
    "temp_df['margin_Y_neg_1'].plot.hist(title=\"Distribution of Prior Year Margin\",bins=50)"
   ]
  },
  {
   "cell_type": "markdown",
   "metadata": {},
   "source": [
    "## Feature engineering on the Churn data:"
   ]
  },
  {
   "cell_type": "code",
   "execution_count": 32,
   "metadata": {},
   "outputs": [
    {
     "name": "stdout",
     "output_type": "stream",
     "text": [
      " summary stats on churn data \n",
      "                            count  unique         top    freq   mean   std  min   25%   50%      75%      max\n",
      "ST                         240368      61          TX   21633    NaN   NaN  NaN   NaN   NaN      NaN      NaN\n",
      "Zip                        240368   26124     missing     894    NaN   NaN  NaN   NaN   NaN      NaN      NaN\n",
      "DMA                        240368     216         803    9721    NaN   NaN  NaN   NaN   NaN      NaN      NaN\n",
      "Area_Cd                    240368     384     missing   13090    NaN   NaN  NaN   NaN   NaN      NaN      NaN\n",
      "emailable                 2.4e+05     NaN         NaN     NaN   0.51   0.5    0     0     1        1        1\n",
      "solicit_ph_ind            2.4e+05     NaN         NaN     NaN   0.89  0.31    0     1     1        1        1\n",
      "solicit_email_ind         2.4e+05     NaN         NaN     NaN   0.96  0.19    0     1     1        1        1\n",
      "fixd_incm_flg             2.4e+05     NaN         NaN     NaN  0.092  0.29    0     0     0        0        1\n",
      "scheduled_purchase_flg    2.4e+05     NaN         NaN     NaN   0.26  0.44    0     0     0        1        1\n",
      "months_since_last_trans   2.4e+05     NaN         NaN     NaN    2.9   3.1    1     1     1        4       12\n",
      "months_since_first_trans  2.4e+05     NaN         NaN     NaN     65    58    1    14    46  1.1e+02  2.9e+02\n",
      "purch_avg_interval        2.4e+05     NaN         NaN     NaN    4.9    10    0     1   1.2      2.6  1.7e+02\n",
      "mail_cnt_36mo             2.4e+05     NaN         NaN     NaN     19    15    0     6    16       33  4.2e+02\n",
      "call_in_mo_36mo           2.4e+05     NaN         NaN     NaN    7.8    47    0     0     0        3  2.7e+03\n",
      "call_out_mo_36mo          2.4e+05     NaN         NaN     NaN    2.3   2.4    0     1     2        3       38\n",
      "tier                       240368       5    1-Bronze  154543    NaN   NaN  NaN   NaN   NaN      NaN      NaN\n",
      "tier_prev                  240368       6         xxx  162512    NaN   NaN  NaN   NaN   NaN      NaN      NaN\n",
      "acct_ID                    240368  239356  I152106951       3    NaN   NaN  NaN   NaN   NaN      NaN      NaN\n",
      "activation_date            240368     208     06JUL00   17375    NaN   NaN  NaN   NaN   NaN      NaN      NaN\n",
      "event_date                  63428      12     31JUL15    6908    NaN   NaN  NaN   NaN   NaN      NaN      NaN\n",
      "churn_year_plus1_ind      2.4e+05     NaN         NaN     NaN   0.26  0.44    0     0     0        1        1\n",
      "log_order_cnt_36mo        2.4e+05     NaN         NaN     NaN   0.74  0.29    0   0.6   0.7      0.9      2.8\n",
      "log_purch_amt_36mo        2.4e+05     NaN         NaN     NaN    2.6  0.65    0   2.2   2.7        3      6.1\n",
      "log_purch_amt_life        2.4e+05     NaN         NaN     NaN    2.9   0.8    0   2.3   2.9      3.4      6.7\n",
      "log_purch_avg_36mo        2.4e+05     NaN         NaN     NaN    1.5  0.35    0   1.3   1.4      1.7      5.5\n",
      "log_purch_cnt_life        2.4e+05     NaN         NaN     NaN    1.4   0.6  0.3  0.95   1.4      1.9      3.4\n",
      "log_purch_cnt_tt_36mo     2.4e+05     NaN         NaN     NaN    1.1  0.43    0  0.85   1.2      1.5      2.7\n",
      "log_resp_cnt_36mo         2.4e+05     NaN         NaN     NaN   0.32  0.45    0     0     0      0.6      2.6\n",
      "perc_purch_cc_36mo        2.4e+05     NaN         NaN     NaN   0.31  0.44    0     0     0     0.93        2\n",
      "perc_purch_ck_36mo        2.4e+05     NaN         NaN     NaN   0.56  0.47    0     0  0.93        1        2\n",
      "perc_purch_et_36mo        2.4e+05     NaN         NaN     NaN   0.13  0.32    0     0     0        0      1.1\n"
     ]
    }
   ],
   "source": [
    "\"\"\" when avg interval = -1 replace with 36 months \"\"\"\n",
    "churn_df['purch_avg_interval'].replace([-1], 36, inplace=True)\n",
    "\n",
    "\"\"\" when avg purchase = -1 replace with 0 \"\"\"\n",
    "churn_df['purch_avg_36mo'].replace([-1], 0, inplace=True)\n",
    "\n",
    "churn_df['log_order_cnt_36mo']=np.log10(churn_df['order_cnt_36mo']+1)\n",
    "churn_df['log_purch_amt_36mo']=np.log10(churn_df['purch_amt_36mo']+1)\n",
    "churn_df['log_purch_amt_life']=np.log10(churn_df['purch_amt_life']+1)\n",
    "churn_df['log_purch_avg_36mo']=np.log10(churn_df['purch_avg_36mo']+1)\n",
    "churn_df['log_purch_cnt_life']=np.log10(churn_df['purch_cnt_life']+1)\n",
    "churn_df['log_purch_cnt_tt_36mo']=np.log10(churn_df['purch_cnt_tt_36mo']+1)\n",
    "churn_df['log_resp_cnt_36mo']=np.log10(churn_df['resp_cnt_36mo']+1)\n",
    "\n",
    "churn_df['perc_purch_cc_36mo']=np.where(churn_df['purch_cnt_tt_36mo']==0,0,churn_df['purch_cnt_cc_36mo']/churn_df['purch_cnt_tt_36mo'])\n",
    "churn_df['perc_purch_ck_36mo']=np.where(churn_df['purch_cnt_tt_36mo']==0,0,churn_df['purch_cnt_ck_36mo']/churn_df['purch_cnt_tt_36mo'])\n",
    "churn_df['perc_purch_et_36mo']=np.where(churn_df['purch_cnt_tt_36mo']==0,0,churn_df['purch_cnt_et_36mo']/churn_df['purch_cnt_tt_36mo'])\n",
    "\n",
    "churn_df = churn_df.drop(['order_cnt_36mo','purch_amt_36mo','purch_amt_life','purch_avg_36mo','purch_cnt_life',\n",
    "                          'purch_cnt_tt_36mo','resp_cnt_36mo',\n",
    "                          'purch_cnt_cc_36mo','purch_cnt_ck_36mo','purch_cnt_et_36mo'],axis=1)\n",
    "\n",
    "print(\" summary stats on churn data \") \n",
    "print(churn_df.describe(include='all').transpose())"
   ]
  },
  {
   "cell_type": "markdown",
   "metadata": {},
   "source": [
    "## histogram plot on new log variable in Churn data"
   ]
  },
  {
   "cell_type": "code",
   "execution_count": 33,
   "metadata": {},
   "outputs": [
    {
     "data": {
      "text/plain": [
       "<matplotlib.axes._subplots.AxesSubplot at 0x202c987d2e8>"
      ]
     },
     "execution_count": 33,
     "metadata": {},
     "output_type": "execute_result"
    },
    {
     "data": {
      "image/png": "[encoded data removed]",
      "text/plain": [
       "<Figure size 432x288 with 1 Axes>"
      ]
     },
     "metadata": {
      "needs_background": "light"
     },
     "output_type": "display_data"
    }
   ],
   "source": [
    "churn_df['log_purch_amt_life'].plot.hist(title=\"Distribution of LOG of Purchase Amount\",bins=50)"
   ]
  },
  {
   "cell_type": "markdown",
   "metadata": {},
   "source": [
    "## Feature engineering on margin data, while keeping original variables.\n",
    "## Using logs with an offset that will account for very large negative margins:"
   ]
  },
  {
   "cell_type": "code",
   "execution_count": 12,
   "metadata": {},
   "outputs": [],
   "source": [
    "margin_df['margin_3yr_avg']=(margin_df['margin_Y_neg_1']+margin_df['margin_Y_neg_2']+margin_df['margin_Y_neg_3'])/3\n",
    "margin_df['log_margin_Y_neg_1']=np.log10(margin_df['margin_Y_neg_1']+50000)\n",
    "margin_df['log_margin_Y_neg_2']=np.log10(margin_df['margin_Y_neg_2']+50000)\n",
    "margin_df['log_margin_Y_neg_3']=np.log10(margin_df['margin_Y_neg_3']+50000)\n",
    "margin_df['log_margin_3yr_avg']=np.log10(margin_df['margin_3yr_avg']+50000)\n",
    "margin_df['log_margin_Y_pos_1']=np.log10(margin_df['margin_Y_pos_1']+50000)"
   ]
  },
  {
   "cell_type": "markdown",
   "metadata": {},
   "source": [
    "## Histogram on transformed target for Margin data"
   ]
  },
  {
   "cell_type": "code",
   "execution_count": 13,
   "metadata": {},
   "outputs": [
    {
     "data": {
      "text/plain": [
       "<matplotlib.axes._subplots.AxesSubplot at 0x202801f0cf8>"
      ]
     },
     "execution_count": 13,
     "metadata": {},
     "output_type": "execute_result"
    },
    {
     "data": {
      "image/png": "[encoded data removed]",
      "text/plain": [
       "<Figure size 432x288 with 1 Axes>"
      ]
     },
     "metadata": {
      "needs_background": "light"
     },
     "output_type": "display_data"
    }
   ],
   "source": [
    "margin_df['log_margin_Y_neg_1'].plot.hist(title=\"Distribution of Prior Year Margin\",bins=50)"
   ]
  },
  {
   "cell_type": "markdown",
   "metadata": {},
   "source": [
    "## Scatter plot on Future Margin vs Prior Margin (logarithms):"
   ]
  },
  {
   "cell_type": "code",
   "execution_count": 14,
   "metadata": {},
   "outputs": [
    {
     "name": "stdout",
     "output_type": "stream",
     "text": [
      " \n"
     ]
    },
    {
     "data": {
      "image/png": "[encoded data removed]",
      "text/plain": [
       "<Figure size 432x288 with 1 Axes>"
      ]
     },
     "metadata": {
      "needs_background": "light"
     },
     "output_type": "display_data"
    }
   ],
   "source": [
    "plt.scatter(margin_df['log_margin_3yr_avg'], margin_df['log_margin_Y_pos_1'])\n",
    "plt.xlabel(\"3-Year Average Margin (log)\")\n",
    "plt.ylabel(\"Future Year Margin (log)\")\n",
    "plt.title(\"Scatter Plot on Margin Data\")\n",
    "print(\" \") \n",
    "plt.show()"
   ]
  },
  {
   "cell_type": "markdown",
   "metadata": {},
   "source": [
    "## Eliminating duplicate acct_IDs before joining data:"
   ]
  },
  {
   "cell_type": "code",
   "execution_count": 15,
   "metadata": {},
   "outputs": [
    {
     "data": {
      "text/plain": [
       "(239356, 31)"
      ]
     },
     "execution_count": 15,
     "metadata": {},
     "output_type": "execute_result"
    }
   ],
   "source": [
    "churn_df.drop_duplicates(subset=['acct_ID'], keep='first', inplace=True)\n",
    "churn_df.shape"
   ]
  },
  {
   "cell_type": "code",
   "execution_count": 16,
   "metadata": {},
   "outputs": [
    {
     "data": {
      "text/plain": [
       "(239356, 11)"
      ]
     },
     "execution_count": 16,
     "metadata": {},
     "output_type": "execute_result"
    }
   ],
   "source": [
    "margin_df.drop_duplicates(subset=['acct_ID'], keep='first', inplace=True)\n",
    "margin_df.shape"
   ]
  },
  {
   "cell_type": "markdown",
   "metadata": {},
   "source": [
    "## Join Churn and Margin data by acct_ID:"
   ]
  },
  {
   "cell_type": "code",
   "execution_count": 17,
   "metadata": {},
   "outputs": [
    {
     "data": {
      "text/plain": [
       "(239356, 41)"
      ]
     },
     "execution_count": 17,
     "metadata": {},
     "output_type": "execute_result"
    }
   ],
   "source": [
    "combined_df_1 = pd.merge(churn_df, margin_df,on='acct_ID', how='inner')\n",
    "combined_df_1.shape"
   ]
  },
  {
   "cell_type": "markdown",
   "metadata": {},
   "source": [
    "## join Demographics data with churn and margin data by acct_ID:"
   ]
  },
  {
   "cell_type": "code",
   "execution_count": 18,
   "metadata": {},
   "outputs": [
    {
     "data": {
      "text/plain": [
       "(240368, 50)"
      ]
     },
     "execution_count": 18,
     "metadata": {},
     "output_type": "execute_result"
    }
   ],
   "source": [
    "combined_df = pd.merge(combined_df_1,demog_df,on='acct_ID',how='inner')\n",
    "combined_df.shape"
   ]
  },
  {
   "cell_type": "markdown",
   "metadata": {},
   "source": [
    "## Create dummy variables for certain categorical variables."
   ]
  },
  {
   "cell_type": "code",
   "execution_count": 19,
   "metadata": {},
   "outputs": [
    {
     "name": "stdout",
     "output_type": "stream",
     "text": [
      " \n",
      "New dataset with dummies\n",
      " \n",
      "   ST      Zip  DMA  Area_Cd  emailable  solicit_ph_ind  solicit_email_ind  fixd_incm_flg  scheduled_purchase_flg  months_since_last_trans  months_since_first_trans  purch_avg_interval  mail_cnt_36mo  call_in_mo_36mo  call_out_mo_36mo      tier tier_prev     acct_ID activation_date event_date  churn_year_plus1_ind  log_order_cnt_36mo  log_purch_amt_36mo  log_purch_amt_life  log_purch_avg_36mo  ...  tier_2-Silver  tier_3-Gold  tier_4-Platinum  tier_5-Diamond  tier_prev_1-Bronze  tier_prev_2-Silver  tier_prev_3-Gold  tier_prev_4-Platinum  tier_prev_5-Diamond  tier_prev_xxx  demog_LOR_00 to 05 years  demog_LOR_06 to 10 years  demog_LOR_11 to 19 years  demog_LOR_20+ years  demog_ownrent_Definite Owner  demog_ownrent_Definite Renter demog_ownrent_Probable Owner demog_ownrent_Probable Renter demog_age_18-24 years old  demog_age_25-34 years old  demog_age_35-44 years old  demog_age_45-54 years old  demog_age_55-64 years old  demog_age_65-74 years old  demog_age_75+ years old\n",
      "0  SC    29607  567      864          1               1                  1              0                       0                        3                        21                4.50              5                0                 1  1-Bronze       xxx  I148760611         30NOV12    31MAY15                     1                0.30                2.16                2.16                1.48  ...              0            0                0               0                   0                   0                 0                     0                    0              1                         1                         0                         0                    0                             0                              1                            0                             0                         0                          0                          1                          0                          0                          0                        0\n",
      "1  MO    63901  632      573          1               1                  1              0                       0                        9                         9               36.00              1                1                 0  1-Bronze       xxx  I151076142         29NOV13    29NOV14                     1                0.30                1.32                1.32                1.32  ...              0            0                0               0                   0                   0                 0                     0                    0              1                         1                         0                         0                    0                             0                              0                            0                             0                         0                          0                          1                          0                          0                          0                        0\n",
      "2  IL    60456  602  missing          0               1                  1              0                       0                        1                       167                3.07             17                0                 0  1-Bronze       xxx   I27001315         05OCT00        NaN                     0                0.70                2.78                3.46                1.56  ...              0            0                0               0                   0                   0                 0                     0                    0              1                         0                         0                         1                    0                             0                              0                            0                             0                         0                          0                          0                          0                          1                          0                        0\n",
      "3  FL    34698  539      727          1               1                  1              0                       0                        9                        13                1.00              5                1                 1    3-Gold       xxx  I150064127         31JUL13    29NOV14                     1                0.60                2.62                2.62                1.93  ...              0            1                0               0                   0                   0                 0                     0                    0              1                         1                         0                         0                    0                             1                              0                            0                             0                         0                          0                          0                          0                          1                          0                        0\n",
      "4  CA    92084  825      760          0               1                  1              0                       0                        1                         2                1.00              2                0                 0  1-Bronze       xxx  I152631565         30JUN14        NaN                     0                0.48                2.08                2.08                1.79  ...              0            0                0               0                   0                   0                 0                     0                    0              1                         0                         1                         0                    0                             1                              0                            0                             0                         0                          0                          0                          1                          0                          0                        0\n",
      "5  MI    48446  505      810          1               0                  1              0                       0                       11                       128                1.58              4                0                 3  1-Bronze  2-Silver   H62972005         04JAN04    30SEP14                     1                0.78                2.49                3.30                1.89  ...              0            0                0               0                   0                   1                 0                     0                    0              0                         0                         0                         1                    0                             1                              0                            0                             0                         0                          0                          0                          0                          0                          1                        0\n",
      "6  AL    35020  630      205          0               1                  1              0                       0                        5                        10                1.00              6                0                 0  1-Bronze       xxx  I151044258         30OCT13    31MAR15                     1                0.30                2.08                2.08                1.32  ...              0            0                0               0                   0                   0                 0                     0                    0              1                         0                         0                         1                    0                             1                              0                            0                             0                         0                          0                          0                          0                          1                          0                        0\n",
      "7  PR  missing  998  missing          0               1                  1              0                       1                        1                       121                2.07             30                0                 0  1-Bronze       xxx   I95584028         04AUG04        NaN                     0                0.48                2.78                3.08                1.32  ...              0            0                0               0                   0                   0                 0                     0                    0              1                         0                         0                         0                    0                             0                              0                            0                             0                         0                          0                          0                          0                          0                          0                        0\n",
      "8  AZ    85232  753      520          1               1                  1              0                       1                        1                       120               19.83              4                0                 0    3-Gold  1-Bronze  I106802847         03SEP04        NaN                     0                0.48                1.91                2.42                1.32  ...              0            1                0               0                   1                   0                 0                     0                    0              0                         0                         0                         1                    0                             1                              0                            0                             0                         0                          0                          0                          1                          0                          0                        0\n",
      "9  CA    95691  862      916          1               1                  1              0                       0                       12                        15                1.00              4                1                 2  1-Bronze       xxx  I149698399         31MAY13    30AUG14                     1                0.48                1.96                1.96                1.37  ...              0            0                0               0                   0                   0                 0                     0                    0              1                         0                         0                         0                    0                             0                              0                            0                             0                         0                          0                          0                          0                          0                          0                        0\n",
      "\n",
      "[10 rows x 137 columns]\n",
      " \n",
      "Columns in new data\n",
      " \n",
      "ST                                object\n",
      "Zip                               object\n",
      "DMA                               object\n",
      "Area_Cd                           object\n",
      "emailable                          int64\n",
      "solicit_ph_ind                     int64\n",
      "solicit_email_ind                  int64\n",
      "fixd_incm_flg                      int64\n",
      "scheduled_purchase_flg             int64\n",
      "months_since_last_trans            int64\n",
      "months_since_first_trans           int64\n",
      "purch_avg_interval               float64\n",
      "mail_cnt_36mo                      int64\n",
      "call_in_mo_36mo                    int64\n",
      "call_out_mo_36mo                   int64\n",
      "tier                              object\n",
      "tier_prev                         object\n",
      "acct_ID                           object\n",
      "activation_date                   object\n",
      "event_date                        object\n",
      "churn_year_plus1_ind               int64\n",
      "log_order_cnt_36mo               float64\n",
      "log_purch_amt_36mo               float64\n",
      "log_purch_amt_life               float64\n",
      "log_purch_avg_36mo               float64\n",
      "log_purch_cnt_life               float64\n",
      "log_purch_cnt_tt_36mo            float64\n",
      "log_resp_cnt_36mo                float64\n",
      "perc_purch_cc_36mo               float64\n",
      "perc_purch_ck_36mo               float64\n",
      "perc_purch_et_36mo               float64\n",
      "margin_Y_neg_1                   float64\n",
      "margin_Y_neg_2                   float64\n",
      "margin_Y_neg_3                   float64\n",
      "margin_Y_pos_1                   float64\n",
      "margin_3yr_avg                   float64\n",
      "log_margin_Y_neg_1               float64\n",
      "log_margin_Y_neg_2               float64\n",
      "log_margin_Y_neg_3               float64\n",
      "log_margin_3yr_avg               float64\n",
      "log_margin_Y_pos_1               float64\n",
      "demog_LOR                         object\n",
      "demog_ownrent                     object\n",
      "demog_age                         object\n",
      "demog_span                         int64\n",
      "demog_generations                float64\n",
      "demog_adults                     float64\n",
      "demog_assets_num                 float64\n",
      "demog_inc_num                    float64\n",
      "demog_homevalue_num              float64\n",
      "ST_AA                              uint8\n",
      "ST_AE                              uint8\n",
      "ST_AK                              uint8\n",
      "ST_AL                              uint8\n",
      "ST_AP                              uint8\n",
      "ST_AR                              uint8\n",
      "ST_AS                              uint8\n",
      "ST_AZ                              uint8\n",
      "ST_CA                              uint8\n",
      "ST_CO                              uint8\n",
      "ST_CT                              uint8\n",
      "ST_DC                              uint8\n",
      "ST_DE                              uint8\n",
      "ST_FL                              uint8\n",
      "ST_GA                              uint8\n",
      "ST_GU                              uint8\n",
      "ST_HI                              uint8\n",
      "ST_IA                              uint8\n",
      "ST_ID                              uint8\n",
      "ST_IL                              uint8\n",
      "ST_IN                              uint8\n",
      "ST_KS                              uint8\n",
      "ST_KY                              uint8\n",
      "ST_LA                              uint8\n",
      "ST_MA                              uint8\n",
      "ST_MD                              uint8\n",
      "ST_ME                              uint8\n",
      "ST_MH                              uint8\n",
      "ST_MI                              uint8\n",
      "ST_MN                              uint8\n",
      "ST_MO                              uint8\n",
      "ST_MP                              uint8\n",
      "ST_MS                              uint8\n",
      "ST_MT                              uint8\n",
      "ST_NC                              uint8\n",
      "ST_ND                              uint8\n",
      "ST_NE                              uint8\n",
      "ST_NH                              uint8\n",
      "ST_NJ                              uint8\n",
      "ST_NM                              uint8\n",
      "ST_NV                              uint8\n",
      "ST_NY                              uint8\n",
      "ST_OH                              uint8\n",
      "ST_OK                              uint8\n",
      "ST_OR                              uint8\n",
      "ST_PA                              uint8\n",
      "ST_PR                              uint8\n",
      "ST_RI                              uint8\n",
      "ST_SC                              uint8\n",
      "ST_SD                              uint8\n",
      "ST_TN                              uint8\n",
      "ST_TX                              uint8\n",
      "ST_UT                              uint8\n",
      "ST_VA                              uint8\n",
      "ST_VI                              uint8\n",
      "ST_VT                              uint8\n",
      "ST_WA                              uint8\n",
      "ST_WI                              uint8\n",
      "ST_WV                              uint8\n",
      "ST_WY                              uint8\n",
      "ST_missing                         uint8\n",
      "tier_1-Bronze                      uint8\n",
      "tier_2-Silver                      uint8\n",
      "tier_3-Gold                        uint8\n",
      "tier_4-Platinum                    uint8\n",
      "tier_5-Diamond                     uint8\n",
      "tier_prev_1-Bronze                 uint8\n",
      "tier_prev_2-Silver                 uint8\n",
      "tier_prev_3-Gold                   uint8\n",
      "tier_prev_4-Platinum               uint8\n",
      "tier_prev_5-Diamond                uint8\n",
      "tier_prev_xxx                      uint8\n",
      "demog_LOR_00 to 05 years           uint8\n",
      "demog_LOR_06 to 10 years           uint8\n",
      "demog_LOR_11 to 19 years           uint8\n",
      "demog_LOR_20+ years                uint8\n",
      "demog_ownrent_Definite Owner       uint8\n",
      "demog_ownrent_Definite Renter      uint8\n",
      "demog_ownrent_Probable Owner       uint8\n",
      "demog_ownrent_Probable Renter      uint8\n",
      "demog_age_18-24 years old          uint8\n",
      "demog_age_25-34 years old          uint8\n",
      "demog_age_35-44 years old          uint8\n",
      "demog_age_45-54 years old          uint8\n",
      "demog_age_55-64 years old          uint8\n",
      "demog_age_65-74 years old          uint8\n",
      "demog_age_75+ years old            uint8\n",
      "dtype: object\n"
     ]
    }
   ],
   "source": [
    "\"\"\" WARNING: this commented-out approach would create dummy indicators for all \"\"\"\n",
    "\"\"\"    categorical variables, including those with very high cardinality, such as zip codes \"\"\"\n",
    "\"\"\"    and also would drop the original categorical variables and only keep the dummy indicators \"\"\"\n",
    "\n",
    "\"\"\" combined_df = pd.get_dummies(combined_df) \"\"\"\n",
    "\n",
    "\"\"\" this approach hand-picks only certain variables for which to create dummy indicators \"\"\"\n",
    "\"\"\" and keeps the original variables too \"\"\"\n",
    "\n",
    "for column in ['ST', 'tier', 'tier_prev','demog_LOR','demog_ownrent','demog_age']:\n",
    "    dummies = pd.get_dummies(combined_df[column],prefix=column)\n",
    "    combined_df[dummies.columns] = dummies\n",
    "\n",
    "print(\" \") \n",
    "print(\"New dataset with dummies\") \n",
    "print(\" \") \n",
    "print(combined_df.head(10)) \n",
    "print(\" \") \n",
    "print(\"Columns in new data\")\n",
    "print(\" \") \n",
    "print(combined_df.dtypes)"
   ]
  },
  {
   "cell_type": "code",
   "execution_count": 20,
   "metadata": {},
   "outputs": [
    {
     "data": {
      "text/plain": [
       "(240368, 137)"
      ]
     },
     "execution_count": 20,
     "metadata": {},
     "output_type": "execute_result"
    }
   ],
   "source": [
    "combined_df.shape"
   ]
  },
  {
   "cell_type": "markdown",
   "metadata": {},
   "source": [
    "## export updated data as new csv file"
   ]
  },
  {
   "cell_type": "code",
   "execution_count": 21,
   "metadata": {},
   "outputs": [],
   "source": [
    "combined_df.to_csv(r'C:\\Users\\Ashish\\OneDrive - Oklahoma A and M System\\CLV\\combined_data.csv',index=False)"
   ]
  },
  {
   "cell_type": "code",
   "execution_count": null,
   "metadata": {},
   "outputs": [],
   "source": []
  }
 ],
 "metadata": {
  "kernelspec": {
   "display_name": "Python 3",
   "language": "python",
   "name": "python3"
  },
  "language_info": {
   "codemirror_mode": {
    "name": "ipython",
    "version": 3
   },
   "file_extension": ".py",
   "mimetype": "text/x-python",
   "name": "python",
   "nbconvert_exporter": "python",
   "pygments_lexer": "ipython3",
   "version": "3.7.3"
  }
 },
 "nbformat": 4,
 "nbformat_minor": 2
}
