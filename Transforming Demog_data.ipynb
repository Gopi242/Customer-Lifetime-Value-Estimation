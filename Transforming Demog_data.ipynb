{
 "cells": [
  {
   "cell_type": "code",
   "execution_count": 1,
   "metadata": {},
   "outputs": [],
   "source": [
    "import numpy as np\n",
    "import pandas as pd"
   ]
  },
  {
   "cell_type": "code",
   "execution_count": 2,
   "metadata": {},
   "outputs": [],
   "source": [
    "    # read demographics file \n",
    "demog_df = pd.read_csv(r'C:\\Users\\Ashish\\OneDrive - Oklahoma A and M System\\CLV\\Input Datasets\\TP_demog_data.csv')"
   ]
  },
  {
   "cell_type": "code",
   "execution_count": 3,
   "metadata": {},
   "outputs": [
    {
     "data": {
      "text/plain": [
       "(240368, 11)"
      ]
     },
     "execution_count": 3,
     "metadata": {},
     "output_type": "execute_result"
    }
   ],
   "source": [
    "demog_df.head()\n",
    "demog_df.shape\n",
    "\n"
   ]
  },
  {
   "cell_type": "code",
   "execution_count": 4,
   "metadata": {},
   "outputs": [
    {
     "name": "stdout",
     "output_type": "stream",
     "text": [
      " \n",
      "count of accounts by ownrent variable\n",
      " \n",
      "demog_ownrent\n",
      "Definite Owner (any type dwelling unit)    153895\n",
      "Definite Renter                              5388\n",
      "Probable Owner (any type dwelling unit)      4016\n",
      "Probable Renter                              5245\n",
      "Name: acct_ID, dtype: int64\n"
     ]
    }
   ],
   "source": [
    "# Investigating the long character lengths of the owner vs renter variable\n",
    "# where, in the code below, demog_df is a dataframe of the demographics data TP_demog_data.csv\n",
    "\n",
    "print(\" \") \n",
    "print(\"count of accounts by ownrent variable\")\n",
    "print(\" \") \n",
    "print(demog_df.groupby('demog_ownrent')['acct_ID'].count())"
   ]
  },
  {
   "cell_type": "code",
   "execution_count": 5,
   "metadata": {},
   "outputs": [],
   "source": [
    "# recoding the long values for ownrent variable\n",
    "\n",
    "demog_df['demog_ownrent']=np.where(demog_df['demog_ownrent']=='Definite Owner (any type dwelling unit)','Definite Owner',\n",
    "                        np.where(demog_df['demog_ownrent']=='Probable Owner (any type dwelling unit)','Probable Owner',\n",
    "                                 demog_df['demog_ownrent']))\n"
   ]
  },
  {
   "cell_type": "code",
   "execution_count": 6,
   "metadata": {},
   "outputs": [
    {
     "name": "stdout",
     "output_type": "stream",
     "text": [
      " \n",
      "count of accounts by ownrent variable\n",
      " \n",
      "demog_ownrent\n",
      "Definite Owner     153895\n",
      "Definite Renter      5388\n",
      "Probable Owner       4016\n",
      "Probable Renter      5245\n",
      "Name: acct_ID, dtype: int64\n"
     ]
    }
   ],
   "source": [
    "print(\" \") \n",
    "print(\"count of accounts by ownrent variable\")\n",
    "print(\" \") \n",
    "print(demog_df.groupby('demog_ownrent')['acct_ID'].count())"
   ]
  },
  {
   "cell_type": "code",
   "execution_count": 7,
   "metadata": {},
   "outputs": [
    {
     "name": "stdout",
     "output_type": "stream",
     "text": [
      " \n",
      "count of accounts by LOR variable\n",
      " \n",
      "demog_LOR\n",
      "00 - 06 Months       4920\n",
      "07 - 12 Months       3600\n",
      "10th Year            8362\n",
      "11th Year            7829\n",
      "12th Year            7336\n",
      "13 - 18 Months       6796\n",
      "13th Year            6305\n",
      "14th Year            5869\n",
      "15th Year            5954\n",
      "16th Year            5429\n",
      "17th Year            5418\n",
      "18th Year            5261\n",
      "19 - 24 Months       7283\n",
      "19th Year            4389\n",
      "20 or more Years    59828\n",
      "3rd Year            15922\n",
      "4th Year            13748\n",
      "5th Year            12410\n",
      "6th Year            12486\n",
      "7th Year            10485\n",
      "8th Year            10008\n",
      "9th Year             8591\n",
      "Name: acct_ID, dtype: int64\n"
     ]
    }
   ],
   "source": [
    "# Counts of records by Length-of-Residence metric\n",
    "\n",
    "print(\" \") \n",
    "print(\"count of accounts by LOR variable\")\n",
    "print(\" \") \n",
    "print(demog_df.groupby('demog_LOR')['acct_ID'].count())"
   ]
  },
  {
   "cell_type": "code",
   "execution_count": 8,
   "metadata": {},
   "outputs": [
    {
     "name": "stdout",
     "output_type": "stream",
     "text": [
      " \n",
      "count of account IDs by new LOR levels\n",
      " \n",
      "demog_LOR\n",
      "00 to 05 years    64679\n",
      "06 to 10 years    49932\n",
      "11 to 19 years    53790\n",
      "20+ years         59828\n",
      "Name: acct_ID, dtype: int64\n"
     ]
    },
    {
     "data": {
      "text/plain": [
       "(240368, 11)"
      ]
     },
     "execution_count": 8,
     "metadata": {},
     "output_type": "execute_result"
    }
   ],
   "source": [
    "# recoding the LOR variable to collapse levels\n",
    "\n",
    "demog_df['demog_LOR']=np.where(demog_df['demog_LOR']=='00 - 06 Months','00 to 05 years',\n",
    "                         np.where(demog_df['demog_LOR']=='07 - 12 Months','00 to 05 years',\n",
    "                         np.where(demog_df['demog_LOR']=='13 - 18 Months','00 to 05 years', \n",
    "                         np.where(demog_df['demog_LOR']=='19 - 24 Months','00 to 05 years',\n",
    "                         np.where(demog_df['demog_LOR']=='3rd Year',      '00 to 05 years',\n",
    "                         np.where(demog_df['demog_LOR']=='4th Year',      '00 to 05 years', \n",
    "                         np.where(demog_df['demog_LOR']=='5th Year',      '00 to 05 years',  \n",
    "                         np.where(demog_df['demog_LOR']=='6th Year',      '06 to 10 years',   \n",
    "                         np.where(demog_df['demog_LOR']=='7th Year',      '06 to 10 years', \n",
    "                         np.where(demog_df['demog_LOR']=='8th Year',      '06 to 10 years',   \n",
    "                         np.where(demog_df['demog_LOR']=='9th Year',      '06 to 10 years',\n",
    "                         np.where(demog_df['demog_LOR']=='10th Year',     '06 to 10 years',     \n",
    "                         np.where(demog_df['demog_LOR']=='11th Year',     '11 to 19 years',     \n",
    "                         np.where(demog_df['demog_LOR']=='12th Year',     '11 to 19 years',  \n",
    "                         np.where(demog_df['demog_LOR']=='13th Year',     '11 to 19 years',     \n",
    "                         np.where(demog_df['demog_LOR']=='14th Year',     '11 to 19 years',  \n",
    "                         np.where(demog_df['demog_LOR']=='15th Year',     '11 to 19 years',     \n",
    "                         np.where(demog_df['demog_LOR']=='16th Year',     '11 to 19 years',  \n",
    "                         np.where(demog_df['demog_LOR']=='17th Year',     '11 to 19 years',     \n",
    "                         np.where(demog_df['demog_LOR']=='18th Year',     '11 to 19 years',\n",
    "                         np.where(demog_df['demog_LOR']=='19th Year',     '11 to 19 years',     \n",
    "                         np.where(demog_df['demog_LOR']=='20 or more Years',     '20+ years',                                    \n",
    "                                 demog_df['demog_LOR']))))))))))))))))))))))\n",
    "\n",
    "print(\" \") \n",
    "print(\"count of account IDs by new LOR levels\")\n",
    "print(\" \") \n",
    "print(demog_df.groupby('demog_LOR')['acct_ID'].count())\n",
    "demog_df.shape"
   ]
  },
  {
   "cell_type": "code",
   "execution_count": 9,
   "metadata": {},
   "outputs": [
    {
     "data": {
      "text/plain": [
       "(240368, 13)"
      ]
     },
     "execution_count": 9,
     "metadata": {},
     "output_type": "execute_result"
    }
   ],
   "source": [
    "# creating some numeric versions of some of the categorical demographics\n",
    "\n",
    "demog_df['demog_assets_num']=np.nan\n",
    "demog_df['demog_assets_num']=np.where(demog_df['demog_assets']== 'IPA <= 25000',        12500, \n",
    "                      np.where(demog_df['demog_assets']== '25000 < IPA <= 50000',       37500,\n",
    "                      np.where(demog_df['demog_assets']== '50000 < IPA <= 75000',       62500,\n",
    "                      np.where(demog_df['demog_assets']== '75000 < IPA <= 100000',      87500,\n",
    "                      np.where(demog_df['demog_assets']== '100000 < IPA <= 250000',    175000,\n",
    "                      np.where(demog_df['demog_assets']== '250000 < IPA <= 500000',    375000,\n",
    "                      np.where(demog_df['demog_assets']== '500000 < IPA <= 750000',    650000,\n",
    "                      np.where(demog_df['demog_assets']== '750000 < IPA <= 1000000',   875000,\n",
    "                      np.where(demog_df['demog_assets']== '1000000 < IPA <= 2000000', 1500000,\n",
    "                      np.where(demog_df['demog_assets']== '2000000 < IPA', 2500000, demog_df['demog_assets_num']))))))))))\n",
    "\n",
    "demog_df['demog_inc_num']=np.nan\n",
    "demog_df['demog_inc_num']=np.where(demog_df['demog_inc_fine']== 'Less than $15000',10000, \n",
    "                      np.where(demog_df['demog_inc_fine']== '$  15000 - $  19999', 17500,\n",
    "                      np.where(demog_df['demog_inc_fine']== '$  20000 - $  29999', 25000,\n",
    "                      np.where(demog_df['demog_inc_fine']== '$  30000 - $  39999', 35000,\n",
    "                      np.where(demog_df['demog_inc_fine']== '$  40000 - $  49999', 45000,\n",
    "                      np.where(demog_df['demog_inc_fine']== '$  50000 - $  74999', 62500,\n",
    "                      np.where(demog_df['demog_inc_fine']== '$  75000 - $  99999', 87500,\n",
    "                      np.where(demog_df['demog_inc_fine']== '$ 100000 - $124999', 112500,\n",
    "                      np.where(demog_df['demog_inc_fine']== '$ 125000 - $149999', 137500,\n",
    "                      np.where(demog_df['demog_inc_fine']== '$ 150000 - $174999', 162500,\n",
    "                      np.where(demog_df['demog_inc_fine']== '$ 175000 - $199999', 187500,\n",
    "                      np.where(demog_df['demog_inc_fine']== '$ 200000 - $249999', 225000,\n",
    "                      np.where(demog_df['demog_inc_fine']== '$ 250000 or more',   300000, demog_df['demog_inc_num'])))))))))))))\n",
    "\n",
    "demog_df.shape"
   ]
  },
  {
   "cell_type": "code",
   "execution_count": 10,
   "metadata": {},
   "outputs": [
    {
     "data": {
      "text/plain": [
       "(240368, 13)"
      ]
     },
     "execution_count": 10,
     "metadata": {},
     "output_type": "execute_result"
    }
   ],
   "source": [
    "demog_df.demog_homevalue.unique()\n",
    "\n",
    "demog_df.shape"
   ]
  },
  {
   "cell_type": "code",
   "execution_count": 11,
   "metadata": {},
   "outputs": [
    {
     "data": {
      "text/plain": [
       "(240368, 14)"
      ]
     },
     "execution_count": 11,
     "metadata": {},
     "output_type": "execute_result"
    }
   ],
   "source": [
    "demog_df['demog_homevalue_num']=np.nan\n",
    "demog_df['demog_homevalue_num']=np.where(demog_df['demog_homevalue']== 'Less than $50000',25000, \n",
    "                      np.where(demog_df['demog_homevalue']== '$ 50000 - $ 99999', 75000,\n",
    "                      np.where(demog_df['demog_homevalue']== '$100000 - $149999', 125000,\n",
    "                      np.where(demog_df['demog_homevalue']== '$150000 - $199999', 175000,\n",
    "                      np.where(demog_df['demog_homevalue']== '$200000 - $249999', 225000,\n",
    "                      np.where(demog_df['demog_homevalue']== '$250000 - $299999', 275000,\n",
    "                      np.where(demog_df['demog_homevalue']== '$300000 - $349999', 325000,\n",
    "                      np.where(demog_df['demog_homevalue']== '$350000 - $399999', 375000,\n",
    "                      np.where(demog_df['demog_homevalue']== '$400000 - $449999', 425000,\n",
    "                      np.where(demog_df['demog_homevalue']== '$450000 - $499999', 475000,\n",
    "                      np.where(demog_df['demog_homevalue']== '$500000 - $599999', 550000,\n",
    "                      np.where(demog_df['demog_homevalue']== '$600000 - $699999', 650000,\n",
    "                      np.where(demog_df['demog_homevalue']== '$700000 - $799999', 750000,\n",
    "                      np.where(demog_df['demog_homevalue']== '$800000 - $999999', 900000,\n",
    "                      np.where(demog_df['demog_homevalue']== '$1000000 - $1499999',1250000 ,\n",
    "                      np.where(demog_df['demog_homevalue']== '$1500000 - $1999999', 1750000,\n",
    "                      np.where(demog_df['demog_homevalue']== '$2000000 and over',   2250000, \n",
    "                               demog_df['demog_homevalue_num'])))))))))))))))))\n",
    "demog_df.shape"
   ]
  },
  {
   "cell_type": "code",
   "execution_count": 12,
   "metadata": {},
   "outputs": [
    {
     "data": {
      "text/plain": [
       "(240368, 10)"
      ]
     },
     "execution_count": 12,
     "metadata": {},
     "output_type": "execute_result"
    }
   ],
   "source": [
    "# and dropping the original non-numeric versions from the data:\n",
    "\n",
    "demog_df = demog_df.drop(['demog_inc_fine','demog_assets','demog_inc_crs','demog_homevalue'\n",
    "                              ],axis=1)\n",
    "demog_df.shape"
   ]
  },
  {
   "cell_type": "code",
   "execution_count": 13,
   "metadata": {},
   "outputs": [],
   "source": [
    "# creating csv with changed demogprahic values\n",
    "demog_df.to_csv(r'C:\\Users\\Ashish\\OneDrive - Oklahoma A and M System\\CLV\\Output Datasets\\TP_demog_new.csv',index=False)"
   ]
  },
  {
   "cell_type": "code",
   "execution_count": 14,
   "metadata": {},
   "outputs": [
    {
     "data": {
      "text/plain": [
       "demog_LOR               object\n",
       "demog_ownrent           object\n",
       "demog_age               object\n",
       "demog_span               int64\n",
       "demog_generations      float64\n",
       "demog_adults           float64\n",
       "acct_ID                 object\n",
       "demog_assets_num       float64\n",
       "demog_inc_num          float64\n",
       "demog_homevalue_num    float64\n",
       "dtype: object"
      ]
     },
     "execution_count": 14,
     "metadata": {},
     "output_type": "execute_result"
    }
   ],
   "source": [
    "demog_df.dtypes"
   ]
  },
  {
   "cell_type": "code",
   "execution_count": null,
   "metadata": {},
   "outputs": [],
   "source": []
  }
 ],
 "metadata": {
  "kernelspec": {
   "display_name": "Python 3",
   "language": "python",
   "name": "python3"
  },
  "language_info": {
   "codemirror_mode": {
    "name": "ipython",
    "version": 3
   },
   "file_extension": ".py",
   "mimetype": "text/x-python",
   "name": "python",
   "nbconvert_exporter": "python",
   "pygments_lexer": "ipython3",
   "version": "3.7.3"
  }
 },
 "nbformat": 4,
 "nbformat_minor": 2
}
